{
 "cells": [
  {
   "cell_type": "markdown",
   "id": "d4e37e01-a168-4c51-8429-fed63de294e9",
   "metadata": {},
   "source": [
    "# 安装配置ChatTTS环境-备选\n",
    "\n",
    "同济子豪兄 2024-6-11"
   ]
  },
  {
   "cell_type": "markdown",
   "id": "71305069-b9b0-4cd9-a104-8759ed4995dd",
   "metadata": {},
   "source": [
    "## 删除原有的ChatTTS目录"
   ]
  },
  {
   "cell_type": "code",
   "execution_count": null,
   "id": "df118633-81d6-4ad0-a520-2d6c30482d1f",
   "metadata": {},
   "outputs": [],
   "source": [
    "!rm -rf ChatTTS  "
   ]
  },
  {
   "cell_type": "markdown",
   "id": "f89ec1bc-df36-49ff-b988-1e81f42b4337",
   "metadata": {},
   "source": [
    "## 从Github下载ChatTTS"
   ]
  },
  {
   "cell_type": "markdown",
   "id": "2f408300",
   "metadata": {},
   "source": []
  },
  {
   "cell_type": "code",
   "execution_count": null,
   "id": "7a4059af-3c89-4787-a4af-6fc02cb78382",
   "metadata": {},
   "outputs": [],
   "source": [
    "!git clone https://github.com/2noise/ChatTTS.git  "
   ]
  },
  {
   "cell_type": "code",
   "execution_count": 19,
   "id": "d2898bd6-161d-4cb4-adea-c7f80ef74e87",
   "metadata": {},
   "outputs": [],
   "source": [
    "# 切换到子豪兄同个版本 20240613\n",
    "# !git reset --hard 0359f28545c7285d7ec3d98ca25c1099e7890c4a"
   ]
  },
  {
   "cell_type": "markdown",
   "id": "4d050e2a-9b15-40a2-b332-16084ad4e8e5",
   "metadata": {},
   "source": [
    "## 进入ChatTTS主目录"
   ]
  },
  {
   "cell_type": "code",
   "execution_count": 1,
   "id": "38fe6aa4-ce52-4597-933f-51e5bd7f0224",
   "metadata": {},
   "outputs": [],
   "source": [
    "import os"
   ]
  },
  {
   "cell_type": "code",
   "execution_count": 2,
   "id": "817026fe-1ff3-4525-b57f-adfb3abb142a",
   "metadata": {},
   "outputs": [
    {
     "data": {
      "text/plain": [
       "'d:\\\\Desktop\\\\寒假项目\\\\ChatTTS_teacher'"
      ]
     },
     "execution_count": 2,
     "metadata": {},
     "output_type": "execute_result"
    }
   ],
   "source": [
    "os.getcwd()"
   ]
  },
  {
   "cell_type": "code",
   "execution_count": 3,
   "id": "82c7f509-b017-4165-af64-c88ec928b37d",
   "metadata": {},
   "outputs": [
    {
     "data": {
      "text/plain": [
       "'d:\\\\Desktop\\\\寒假项目\\\\ChatTTS_teacher\\\\ChatTTS'"
      ]
     },
     "execution_count": 3,
     "metadata": {},
     "output_type": "execute_result"
    }
   ],
   "source": [
    "os.chdir('ChatTTS')\n",
    "os.getcwd()"
   ]
  },
  {
   "cell_type": "markdown",
   "id": "558425d7-75b9-4dd7-8254-7329f11012e9",
   "metadata": {},
   "source": [
    "## 安装所需工具包"
   ]
  },
  {
   "cell_type": "code",
   "execution_count": null,
   "id": "382fd845-5bf8-4820-9883-624a5c1ba6b8",
   "metadata": {},
   "outputs": [],
   "source": [
    "!pip install -r requirements.txt"
   ]
  },
  {
   "cell_type": "code",
   "execution_count": null,
   "id": "b7437ab7-d64b-4b5e-a585-368fcf77404a",
   "metadata": {},
   "outputs": [],
   "source": [
    "!pip install soundfile torchaudio pynini==2.1.5 nemo_text_processing gradio"
   ]
  },
  {
   "cell_type": "code",
   "execution_count": 25,
   "id": "125d1591-b0fd-4d7a-bcc3-cd6c17a63baf",
   "metadata": {},
   "outputs": [],
   "source": [
    "# !pip install -U ipywidgets huggingface_hub[hf_transfer]"
   ]
  },
  {
   "cell_type": "markdown",
   "id": "7c4fa475-20ee-4a7a-a874-de968f0c8a79",
   "metadata": {},
   "source": [
    "## 验证安装成功"
   ]
  },
  {
   "cell_type": "code",
   "execution_count": 7,
   "id": "5b39b649-896e-464a-a6d5-1dd064d24741",
   "metadata": {},
   "outputs": [],
   "source": [
    "import torchaudio\n",
    "import torch\n",
    "import soundfile\n",
    "from IPython.display import Audio"
   ]
  },
  {
   "cell_type": "code",
   "execution_count": 15,
   "id": "c9958017-eb66-40d1-a3ef-379b46f702ae",
   "metadata": {},
   "outputs": [],
   "source": [
    "# from ChatTTS import ChatTTS\n",
    "import ChatTTS"
   ]
  },
  {
   "cell_type": "markdown",
   "id": "1e256535-29dc-4ab1-ab38-20927cfe0c0a",
   "metadata": {},
   "source": [
    "如果导入上述工具包没有报错，则说明安装配置成功！\n",
    "\n",
    "如果报错，则换成运行被注释掉的那行"
   ]
  },
  {
   "cell_type": "markdown",
   "id": "3b79af99-9675-43d4-b798-7b58fa04c674",
   "metadata": {},
   "source": [
    "## 修改代码\n",
    "\n",
    "- 第一处\n",
    "\n",
    "将`ChatTTS/core.py`的143行到149行注释掉，效果如下：\n",
    "\n",
    "```python\n",
    "        # if do_text_normalization:\n",
    "        #     for i, t in enumerate(text):\n",
    "        #         _lang = detect_language(t) if lang is None else lang\n",
    "        #         self.init_normalizer(_lang)\n",
    "        #         text[i] = self.normalizer[_lang](t)\n",
    "        #         if _lang == 'zh':\n",
    "        #             text[i] = apply_half2full_map(text[i])\n",
    "```\n",
    "\n",
    "- 第二处\n",
    "\n",
    "将`ChatTTS/core.py`的55行，添加`endpoint='https://hf-mirror.com'`，效果如下：\n",
    "```python\n",
    "download_path = snapshot_download(repo_id=\"2Noise/ChatTTS\", allow_patterns=[\"*.pt\", \"*.yaml\"], endpoint='https://hf-mirror.com')\n",
    "```"
   ]
  },
  {
   "cell_type": "markdown",
   "id": "dee9e371-687e-4c78-b3b6-b90a982c89d4",
   "metadata": {},
   "source": [
    "## 从Hugging Face下载预训练模型（方法一）\n",
    "\n",
    "在命令行中运行\n",
    "\n",
    "```python\n",
    "\n",
    "python\n",
    "\n",
    "from ChatTTS import ChatTTS\n",
    "\n",
    "# import ChatTTS\n",
    "\n",
    "chat = ChatTTS.Chat()\n",
    "\n",
    "chat.load_models(force_redownload=True)\n",
    "\n",
    "```\n",
    "\n",
    "如果下载卡住，重新运行即可"
   ]
  },
  {
   "cell_type": "markdown",
   "id": "80ef4a87-935c-4383-9419-6f68239f67c4",
   "metadata": {},
   "source": [
    "## 从Hugging Face下载预训练模型（方法二）"
   ]
  },
  {
   "cell_type": "code",
   "execution_count": 12,
   "id": "0e99f752-9d99-40b9-a9ed-e705ebb3dd26",
   "metadata": {},
   "outputs": [],
   "source": [
    "chat = ChatTTS.Chat()"
   ]
  },
  {
   "cell_type": "code",
   "execution_count": 13,
   "id": "472dec99-60ca-4ca5-8ce7-9258b2228ba8",
   "metadata": {},
   "outputs": [
    {
     "ename": "AttributeError",
     "evalue": "'Chat' object has no attribute 'load_models'",
     "output_type": "error",
     "traceback": [
      "\u001b[1;31m---------------------------------------------------------------------------\u001b[0m",
      "\u001b[1;31mAttributeError\u001b[0m                            Traceback (most recent call last)",
      "Cell \u001b[1;32mIn[13], line 1\u001b[0m\n\u001b[1;32m----> 1\u001b[0m \u001b[43mchat\u001b[49m\u001b[38;5;241;43m.\u001b[39;49m\u001b[43mload_models\u001b[49m(force_redownload\u001b[38;5;241m=\u001b[39m\u001b[38;5;28;01mTrue\u001b[39;00m)\n",
      "\u001b[1;31mAttributeError\u001b[0m: 'Chat' object has no attribute 'load_models'"
     ]
    }
   ],
   "source": [
    "chat.load_models(force_redownload=True)"
   ]
  },
  {
   "cell_type": "code",
   "execution_count": null,
   "id": "93010b54-2a97-4ecf-b19b-4376983e0761",
   "metadata": {},
   "outputs": [],
   "source": []
  }
 ],
 "metadata": {
  "kernelspec": {
   "display_name": "learing",
   "language": "python",
   "name": "python3"
  },
  "language_info": {
   "codemirror_mode": {
    "name": "ipython",
    "version": 3
   },
   "file_extension": ".py",
   "mimetype": "text/x-python",
   "name": "python",
   "nbconvert_exporter": "python",
   "pygments_lexer": "ipython3",
   "version": "3.10.15"
  }
 },
 "nbformat": 4,
 "nbformat_minor": 5
}
