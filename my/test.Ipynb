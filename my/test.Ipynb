{
 "cells": [
  {
   "cell_type": "code",
   "execution_count": null,
   "metadata": {
    "vscode": {
     "languageId": "plaintext"
    }
   },
   "outputs": [],
   "source": [
    "import ChatTTS\n",
    "import torch\n",
    "import torchaudio\n",
    "\n",
    "chat = ChatTTS.Chat()\n",
    "chat.load(compile=False) # Set to True for better performance\n",
    "\n",
    "texts = [\"PUT YOUR 1st TEXT HERE\", \"PUT YOUR 2nd TEXT HERE\"]\n",
    "\n",
    "wavs = chat.infer(texts)\n",
    "\n",
    "for i in range(len(wavs)):\n",
    "    \"\"\"\n",
    "    In some versions of torchaudio, the first line works but in other versions, so does the second line.\n",
    "    \"\"\"\n",
    "    try:\n",
    "        torchaudio.save(f\"basic_output{i}.wav\", torch.from_numpy(wavs[i]).unsqueeze(0), 24000)\n",
    "    except:\n",
    "        torchaudio.save(f\"basic_output{i}.wav\", torch.from_numpy(wavs[i]), 24000)\n",
    "\n",
    "        "
   ]
  }
 ],
 "metadata": {
  "language_info": {
   "name": "python"
  }
 },
 "nbformat": 4,
 "nbformat_minor": 2
}
